{
 "cells": [
  {
   "cell_type": "code",
   "execution_count": null,
   "metadata": {},
   "outputs": [],
   "source": [
    "import cv2\n",
    "import numpy as np\n",
    "import matplotlib.pyplot as plt"
   ]
  },
  {
   "cell_type": "code",
   "execution_count": null,
   "metadata": {},
   "outputs": [],
   "source": [
    "img = cv2.imread('test_image.png')"
   ]
  },
  {
   "cell_type": "code",
   "execution_count": null,
   "metadata": {},
   "outputs": [],
   "source": [
    "gray = cv2.cvtColor(img, cv2.COLOR_BGR2GRAY) # convert to grayscale\n",
    "edges = cv2.Canny(gray, 50, 150, apertureSize=3) # detect edges\n",
    "lines = cv2.HoughLinesP(\n",
    "                edges,\n",
    "                1,\n",
    "                np.pi/180,\n",
    "                100,\n",
    "                minLineLength=100,\n",
    "                maxLineGap=10,\n",
    "        ) # detect lines\n",
    "\n",
    "for line in lines:\n",
    "    x1, y1, x2, y2 = line[0]\n",
    "    cv2.line(img, (x1, y1), (x2, y2), (0, 255, 0), 2)\n",
    "\n",
    "plt.imshow(img)"
   ]
  },
  {
   "cell_type": "code",
   "execution_count": null,
   "metadata": {},
   "outputs": [],
   "source": [
    "img = cv2.imread('test_image.png', cv2.IMREAD_GRAYSCALE)\n",
    "\n",
    "at_detector = Detector(families='tag36h11',\n",
    "                       nthreads=1,\n",
    "                       quad_decimate=1.0,\n",
    "                       quad_sigma=0.0,\n",
    "                       refine_edges=1,\n",
    "                       decode_sharpening=0.25,\n",
    "                       debug=0)\n",
    "\n",
    "tags = at_detector.detect(img, estimate_tag_pose=False, camera_params=None, tag_size=None)\n",
    "\n",
    "color_img = cv2.cvtColor(img, cv2.COLOR_GRAY2RGB)\n",
    "\n",
    "for tag in tags:\n",
    "    for idx in range(len(tag.corners)):\n",
    "        cv2.line(color_img, tuple(tag.corners[idx - 1, :].astype(int)), tuple(tag.corners[idx, :].astype(int)), (0, 255, 0))\n",
    "\n",
    "    cv2.putText(color_img, str(tag.tag_id),\n",
    "                org=(tag.corners[0, 0].astype(int) + 10, tag.corners[0, 1].astype(int) + 10),\n",
    "                fontFace=cv2.FONT_HERSHEY_SIMPLEX,\n",
    "                fontScale=0.8,\n",
    "                color=(0, 0, 255))\n",
    "    \n",
    "plt.imshow(color_img)"
   ]
  }
 ],
 "metadata": {
  "kernelspec": {
   "display_name": "bluecv",
   "language": "python",
   "name": "python3"
  },
  "language_info": {
   "codemirror_mode": {
    "name": "ipython",
    "version": 3
   },
   "file_extension": ".py",
   "mimetype": "text/x-python",
   "name": "python",
   "nbconvert_exporter": "python",
   "pygments_lexer": "ipython3",
   "version": "3.12.3"
  }
 },
 "nbformat": 4,
 "nbformat_minor": 2
}
